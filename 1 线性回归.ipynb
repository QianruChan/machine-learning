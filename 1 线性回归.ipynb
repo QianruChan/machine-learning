{
 "cells": [
  {
   "cell_type": "markdown",
   "source": [
    "# Lesson 1. 线性回归"
   ],
   "metadata": {
    "collapsed": false
   }
  },
  {
   "cell_type": "markdown",
   "source": [
    "#### 1.理论基础\n",
    "\n",
    "机器学习一般建模流程：提出基本模型；确定损失函数；根据损失函数性质，选择优化方法；利用优化算法进行损失函数求解"
   ],
   "metadata": {
    "collapsed": false
   }
  },
  {
   "cell_type": "markdown",
   "source": [
    "**1.1 线性回归基本模型**\n",
    "\n",
    "简单线性回归：$y=wx+b$\n",
    "多元线性回归：$y=w_1x_1+w_2x_2+...+w_nx_n+b$\n",
    "多项式回归：$y=w_1x^2+w_2x+b=w^Tx+b$\n",
    "对数线性回归：$lny=w^Tx+b$"
   ],
   "metadata": {
    "collapsed": false
   }
  },
  {
   "cell_type": "markdown",
   "source": [
    "**1.2 模型评估指标与损失函数**\n",
    "\n",
    "残差平方和：$SSE=\\sum_{i=1}^{n}(\\hat y_i-y_i)^2$\n",
    "均方误差:$MSE = \\frac{1}{n}SSE = \\frac{1}{n}\\sum_{i=1}^{n}(\\hat y_i-y_i)^2$\n",
    "均方根误差：$RMSE = \\sqrt{MSE} = \\sqrt{\\frac{1}{n}\\sum_{i=1}^{n}(\\hat y_i-y_i)^2}$\n",
    "$R^2$:$R^2=\\frac{SSR}{SST}=\\frac{SST-SSE}{SST}=1-\\frac{SSE}{SST}$\n",
    "\n",
    ">其中：$SSR =\\sum^{n}_{i=1}(\\bar{y_i}-\\hat{y_i})^2$\n",
    "    $SST =\\sum^{n}_{i=1}(\\bar{y_i}-y_i)^2$\n",
    "    $SST=SSR+SSE$"
   ],
   "metadata": {
    "collapsed": false
   }
  },
  {
   "cell_type": "markdown",
   "source": [
    "**简单线性回归的参数估计**\n",
    "\n",
    "损失函数：$ SSELoss = \\sum^m_{i=1}(f(x_i)-y_i)^2 $\n",
    "通过偏导为零求得最终结果的最小二乘法求解过程为：\n",
    "$$ \\begin{align} \\frac{\\partial{SSE_(w,b)}}{\\partial{(w)}}\n",
    "& = 2(w\\sum^m_{i=1}x^2_i - \\sum^m_{i=1}(y_i-b)x_i) = 0  \\end{align} $$\n",
    "\n",
    "$$ \\begin{align} \\frac{\\partial{SSE_(w,b)}}{\\partial{(b)}}\n",
    "& = 2(mb - \\sum^m_{i=1}(y_i-wx_i)) = 0  \\end{align}  $$\n",
    "\n",
    "进而可得：\n",
    "$$ w = \\frac{\\sum^m_{i=1}y_i(x_i-\\bar{x})\n",
    "}{\\sum^m_{i=1}x^2_i-\\frac{1}{m}(\\sum^m_{i=1}x_i)^2\n",
    "} $$\n",
    "\n",
    "\n",
    "$$ b = \\frac{1}{m}\\sum^m_{i=1}(y_i-wx_i)$$\n",
    "\n",
    "其中，$\\bar x = \\frac{1}{m}\\sum^m_{i=1}x_i$，为x的均值，并且$(x_i,y_i)$代表二维空间中的点。\n"
   ],
   "metadata": {
    "collapsed": false
   }
  },
  {
   "cell_type": "markdown",
   "source": [
    "**最小二乘法求解损失函数，简单例子：**\n",
    "\n",
    "|Whole weight|Rings|\n",
    "|:--:|:--:|\n",
    "|1|2|\n",
    "|3|4|\n",
    "\n",
    "损失函数：$ SSELoss=  (w+b-2)^2 + (3w+b-4)^2 $\n",
    "\n",
    "**最小二乘法求解损失函数最小值，另偏导数等于0**\n",
    "<center>$ \\begin{align} \\frac{\\partial{SSELoss}}{\\partial{(w)}}\n",
    "& = 2*(w+b-2) + 2*(3w+b-4)*3\\\\\n",
    "& = 20w+8b-28 \\\\\n",
    "& = 0  \\end{align} $</center>\n",
    "\n",
    "<center>$ \\begin{align} \\frac{\\partial{SSELoss}}{\\partial{(b)}}\n",
    "& = 2*(w+b-2) + 2*(3w+b-4)\\\\\n",
    "& = 8w+4b-12 \\\\\n",
    "& = 0 \\end{align} $</center>\n",
    "\n",
    "最终可得，损失函数最小值点为(1,1)，即当$w=1,b=1$时模型损失函数计算结果最小、模型SSE取值最小、模型效果最好，此时SSE=0，线性回归模型计算结果为：$$ y = x + 1 $$"
   ],
   "metadata": {
    "collapsed": false
   }
  },
  {
   "cell_type": "markdown",
   "source": [
    "**最小二乘法求解损失函数一般过程**"
   ],
   "metadata": {
    "collapsed": false
   }
  },
  {
   "cell_type": "markdown",
   "source": [
    "**1.3 相关性**"
   ],
   "metadata": {
    "collapsed": false
   }
  },
  {
   "cell_type": "markdown",
   "source": [
    "**1.4 可信度理论**"
   ],
   "metadata": {
    "collapsed": false
   }
  },
  {
   "cell_type": "markdown",
   "source": [
    "**1.5 线性回归的局限性**"
   ],
   "metadata": {
    "collapsed": false
   }
  },
  {
   "cell_type": "markdown",
   "source": [
    "#### 2. 案例实践"
   ],
   "metadata": {
    "collapsed": false
   }
  },
  {
   "cell_type": "code",
   "execution_count": 63,
   "outputs": [],
   "source": [
    "import pandas as pd\n",
    "from sklearn.linear_model import LinearRegression\n",
    "from sklearn.model_selection import train_test_split\n",
    "from sklearn.metrics import mean_squared_error,mean_absolute_error,r2_score\n",
    "\n",
    "\n",
    "from bokeh.models import ColumnDataSource\n",
    "from bokeh.plotting import output_file\n",
    "from bokeh.plotting import figure, show\n",
    "\n",
    "\n",
    "import matplotlib.pyplot as plt\n",
    "import numpy as np\n",
    "%matplotlib qt5"
   ],
   "metadata": {
    "collapsed": false
   }
  },
  {
   "cell_type": "code",
   "execution_count": 64,
   "outputs": [],
   "source": [
    "data_set = pd.read_excel(r'D:\\algorithm\\ML tutorial\\tem_tutorial.xlsx')"
   ],
   "metadata": {
    "collapsed": false
   }
  },
  {
   "cell_type": "code",
   "execution_count": 65,
   "outputs": [
    {
     "data": {
      "text/plain": "    Month  1961-1990  1961-1990_2  Change\n0       1       -6.5        42.25     2.5\n1       2       -6.0        36.00     1.7\n2       3       -2.5         6.25     1.3\n3       4        2.2         4.84     1.1\n4       5        8.2        67.24     0.3\n5       6       13.2       174.24    -0.4\n6       7       14.8       219.04     1.0\n7       8       13.6       184.96     1.2\n8       9        9.4        88.36     0.7\n9      10        5.0        25.00    -0.3\n10     11       -0.7         0.49     0.6\n11     12       -4.6        21.16     1.2",
      "text/html": "<div>\n<style scoped>\n    .dataframe tbody tr th:only-of-type {\n        vertical-align: middle;\n    }\n\n    .dataframe tbody tr th {\n        vertical-align: top;\n    }\n\n    .dataframe thead th {\n        text-align: right;\n    }\n</style>\n<table border=\"1\" class=\"dataframe\">\n  <thead>\n    <tr style=\"text-align: right;\">\n      <th></th>\n      <th>Month</th>\n      <th>1961-1990</th>\n      <th>1961-1990_2</th>\n      <th>Change</th>\n    </tr>\n  </thead>\n  <tbody>\n    <tr>\n      <th>0</th>\n      <td>1</td>\n      <td>-6.5</td>\n      <td>42.25</td>\n      <td>2.5</td>\n    </tr>\n    <tr>\n      <th>1</th>\n      <td>2</td>\n      <td>-6.0</td>\n      <td>36.00</td>\n      <td>1.7</td>\n    </tr>\n    <tr>\n      <th>2</th>\n      <td>3</td>\n      <td>-2.5</td>\n      <td>6.25</td>\n      <td>1.3</td>\n    </tr>\n    <tr>\n      <th>3</th>\n      <td>4</td>\n      <td>2.2</td>\n      <td>4.84</td>\n      <td>1.1</td>\n    </tr>\n    <tr>\n      <th>4</th>\n      <td>5</td>\n      <td>8.2</td>\n      <td>67.24</td>\n      <td>0.3</td>\n    </tr>\n    <tr>\n      <th>5</th>\n      <td>6</td>\n      <td>13.2</td>\n      <td>174.24</td>\n      <td>-0.4</td>\n    </tr>\n    <tr>\n      <th>6</th>\n      <td>7</td>\n      <td>14.8</td>\n      <td>219.04</td>\n      <td>1.0</td>\n    </tr>\n    <tr>\n      <th>7</th>\n      <td>8</td>\n      <td>13.6</td>\n      <td>184.96</td>\n      <td>1.2</td>\n    </tr>\n    <tr>\n      <th>8</th>\n      <td>9</td>\n      <td>9.4</td>\n      <td>88.36</td>\n      <td>0.7</td>\n    </tr>\n    <tr>\n      <th>9</th>\n      <td>10</td>\n      <td>5.0</td>\n      <td>25.00</td>\n      <td>-0.3</td>\n    </tr>\n    <tr>\n      <th>10</th>\n      <td>11</td>\n      <td>-0.7</td>\n      <td>0.49</td>\n      <td>0.6</td>\n    </tr>\n    <tr>\n      <th>11</th>\n      <td>12</td>\n      <td>-4.6</td>\n      <td>21.16</td>\n      <td>1.2</td>\n    </tr>\n  </tbody>\n</table>\n</div>"
     },
     "execution_count": 65,
     "metadata": {},
     "output_type": "execute_result"
    }
   ],
   "source": [
    "data_set['1961-1990_2'] = data_set['1961-1990'] ** 2\n",
    "data_set = data_set[['Month','1961-1990','1961-1990_2','Change']]\n",
    "data_set"
   ],
   "metadata": {
    "collapsed": false
   }
  },
  {
   "cell_type": "code",
   "execution_count": 66,
   "outputs": [
    {
     "name": "stdout",
     "output_type": "stream",
     "text": [
      "权重： [-0.04393573 -0.12757154  0.00872862]\n",
      "截距： 1.067986563730856\n",
      "平均绝对值误差（R2）： 0.9343228512678701\n"
     ]
    }
   ],
   "source": [
    "\n",
    "x_train,x_test,y_train,y_test = train_test_split(data_set.iloc[:,:data_set.shape[1]-1],data_set.Change,train_size=0.8)\n",
    "#模型训练\n",
    "model = LinearRegression( )\n",
    "model.fit(x_train,y_train)\n",
    "#模型测试\n",
    "y_pred = model.predict(x_test)\n",
    "print(\"权重：\",model.coef_)\n",
    "print(\"截距：\",model.intercept_)\n",
    "#模型评估\n",
    "print(\"平均绝对值误差（R2）：\",r2_score(y_test,y_pred))"
   ],
   "metadata": {
    "collapsed": false
   }
  },
  {
   "cell_type": "code",
   "execution_count": 67,
   "outputs": [],
   "source": [
    "#创建画布\n",
    "p = figure(x_axis_type=\"datetime\",title = '5月24日 张淳毅工位的温度以及空调设定',width=1300, height=800)\n",
    "#设置label\n",
    "p.xaxis.axis_label = 'time'\n",
    "p.yaxis.axis_label = 'temperature (℃)'\n",
    "#画图\n",
    "p.square(data_set['1961-1990'],data_set['Change'],legend_label = 'env_temp', size=7, line_color=\"green\")\n",
    "\n",
    "\n",
    "show(p)\n"
   ],
   "metadata": {
    "collapsed": false
   }
  },
  {
   "cell_type": "code",
   "execution_count": 68,
   "outputs": [],
   "source": [
    "\n",
    "# 生成代表X轴数据的列表\n",
    "x = np.linspace(0, 12.0,100)\n",
    "# 生成代表Y轴数据的列表\n",
    "y = np.linspace(-7.0, 15,100)\n",
    "# 对x、y数据执行网格化\n",
    "X, Y = np.meshgrid(x, y)\n",
    "\n",
    "Z = -0.06566*X-0.13233*Y+0.00905*Y**2+1.24504\n",
    "# 绘制3D图形\n",
    "fig = plt.figure(figsize=(10,10))\n",
    "ax = fig.add_subplot(111,projection='3d')\n",
    "\n",
    "# 设置Z轴范围\n",
    "ax.plot_surface(X,Y,Z,alpha=0.9,cmap='winter')\n",
    "ax.scatter(data_set['Month'],data_set['1961-1990'],data_set['Change'],c='r')\n",
    "plt.savefig('曲面',dpi=800)\n",
    "plt.show()"
   ],
   "metadata": {
    "collapsed": false
   }
  },
  {
   "cell_type": "code",
   "execution_count": null,
   "outputs": [],
   "source": [
    "#描述、预测、找异常点\n",
    "\n",
    "#用这个例子可以得到什么：在描述什么，在预测什么，发现异常点\n",
    "\n",
    "\n",
    "#数据预处理"
   ],
   "metadata": {
    "collapsed": false
   }
  }
 ],
 "metadata": {
  "kernelspec": {
   "display_name": "Python 3",
   "language": "python",
   "name": "python3"
  },
  "language_info": {
   "codemirror_mode": {
    "name": "ipython",
    "version": 2
   },
   "file_extension": ".py",
   "mimetype": "text/x-python",
   "name": "python",
   "nbconvert_exporter": "python",
   "pygments_lexer": "ipython2",
   "version": "2.7.6"
  }
 },
 "nbformat": 4,
 "nbformat_minor": 0
}
